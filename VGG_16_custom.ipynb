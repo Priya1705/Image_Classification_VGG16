{
 "cells": [
  {
   "cell_type": "code",
   "execution_count": 19,
   "metadata": {},
   "outputs": [],
   "source": [
    "import pandas as pd\n",
    "import numpy as np\n",
    "import pickle\n",
    "import tensorflow as tf\n",
    "from tensorflow import keras\n",
    "from keras.models import Model\n",
    "from keras.layers import GlobalMaxPooling2D\n",
    "from keras.layers import GlobalAveragePooling2D\n",
    "from keras.preprocessing import image\n",
    "from keras.layers import Input,Conv2D, MaxPool2D, Flatten, Dense, Activation, Dropout,MaxPooling2D\n",
    "from keras.models import Sequential\n",
    "from tensorflow.keras.optimizers import Adam"
   ]
  },
  {
   "cell_type": "code",
   "execution_count": 6,
   "metadata": {},
   "outputs": [
    {
     "name": "stdout",
     "output_type": "stream",
     "text": [
      "(14034, 150, 150, 3)\n",
      "(14034,)\n",
      "(3000, 150, 150, 3)\n",
      "(3000,)\n",
      "(7301, 150, 150, 3)\n"
     ]
    }
   ],
   "source": [
    "with open('train_X.pkl','rb') as f:\n",
    "    train_X = pickle.load(f)\n",
    "    print(train_X.shape)\n",
    "    \n",
    "with open('train_Y.pkl','rb') as f:\n",
    "    train_Y = pickle.load(f)\n",
    "    print(train_Y.shape)\n",
    "    \n",
    "with open('test_X.pkl','rb') as f:\n",
    "    test_X = pickle.load(f)\n",
    "    print(test_X.shape)\n",
    "    \n",
    "with open('test_Y.pkl','rb') as f:\n",
    "    test_Y = pickle.load(f)\n",
    "    print(test_Y.shape)\n",
    "    \n",
    "with open('pred_data.pkl','rb') as f:\n",
    "    pred_data = pickle.load(f)\n",
    "    print(pred_data.shape)"
   ]
  },
  {
   "cell_type": "code",
   "execution_count": 20,
   "metadata": {},
   "outputs": [],
   "source": [
    "def VGGupdated(input_tensor=None,classes=6):    \n",
    "   \n",
    "    img_rows, img_cols = 150, 150   # by default size is 224,224\n",
    "    img_channels = 3\n",
    "\n",
    "    img_dim = (img_rows, img_cols, img_channels)\n",
    "   \n",
    "    img_input = Input(shape=img_dim)\n",
    "    \n",
    "    # Block 1\n",
    "    x = Conv2D(64, (3, 3), activation='relu', padding='same', name='block1_conv1')(img_input)\n",
    "    x = Conv2D(64, (3, 3), activation='relu', padding='same', name='block1_conv2')(x)\n",
    "    x = MaxPooling2D((2, 2), strides=(2, 2), name='block1_pool')(x)\n",
    "\n",
    "    # Block 2\n",
    "    x = Conv2D(128, (3, 3), activation='relu', padding='same', name='block2_conv1')(x)\n",
    "    x = Conv2D(128, (3, 3), activation='relu', padding='same', name='block2_conv2')(x)\n",
    "    x = MaxPooling2D((2, 2), strides=(2, 2), name='block2_pool')(x)\n",
    "\n",
    "    # Block 3\n",
    "    x = Conv2D(256, (3, 3), activation='relu', padding='same', name='block3_conv1')(x)\n",
    "    x = Conv2D(256, (3, 3), activation='relu', padding='same', name='block3_conv2')(x)\n",
    "    x = Conv2D(256, (3, 3), activation='relu', padding='same', name='block3_conv3')(x)\n",
    "    x = MaxPooling2D((2, 2), strides=(2, 2), name='block3_pool')(x)\n",
    "    \n",
    "    # Block 4\n",
    "    x = Conv2D(512, (3, 3), activation='relu', padding='same', name='block4_conv1')(x)\n",
    "    x = Conv2D(512, (3, 3), activation='relu', padding='same', name='block4_conv2')(x)\n",
    "    x = Conv2D(512, (3, 3), activation='relu', padding='same', name='block4_conv3')(x)\n",
    "    x = MaxPooling2D((2, 2), strides=(2, 2), name='block4_pool')(x)\n",
    "\n",
    "    # Block 5\n",
    "    x = Conv2D(512, (3, 3), activation='relu', padding='same', name='block5_conv1')(x)\n",
    "    x = Conv2D(512, (3, 3), activation='relu', padding='same', name='block5_conv2')(x)\n",
    "    x = Conv2D(512, (3, 3), activation='relu', padding='same', name='block5_conv3')(x)\n",
    "    x = MaxPooling2D((2, 2), strides=(2, 2), name='block5_pool')(x)\n",
    "\n",
    "    \n",
    "    # Classification block\n",
    "    x = Flatten(name='flatten')(x)\n",
    "    x = Dense(4096, activation='relu', name='fc1')(x)\n",
    "    x = Dense(4096, activation='relu', name='fc2')(x)\n",
    "    x = Dense(classes, activation='softmax', name='predictions')(x)\n",
    "\n",
    "    # Create model.\n",
    "   \n",
    "     \n",
    "    model = Model(inputs = img_input, outputs = x, name='VGGdemo')\n",
    "\n",
    "\n",
    "    return model"
   ]
  },
  {
   "cell_type": "code",
   "execution_count": 21,
   "metadata": {},
   "outputs": [],
   "source": [
    "model = VGGupdated(classes = 6) "
   ]
  },
  {
   "cell_type": "code",
   "execution_count": 22,
   "metadata": {},
   "outputs": [],
   "source": [
    "model.compile(optimizer='adam', loss='sparse_categorical_crossentropy', metrics=['accuracy'])"
   ]
  },
  {
   "cell_type": "code",
   "execution_count": 24,
   "metadata": {},
   "outputs": [
    {
     "data": {
      "text/plain": [
       "(14034, 150, 150, 3)"
      ]
     },
     "execution_count": 24,
     "metadata": {},
     "output_type": "execute_result"
    }
   ],
   "source": [
    "train_X.shape"
   ]
  },
  {
   "cell_type": "code",
   "execution_count": 143,
   "metadata": {},
   "outputs": [],
   "source": [
    "train_features=train_X[0:1000,]\n",
    "train_labels=train_Y[0:1000,]"
   ]
  },
  {
   "cell_type": "code",
   "execution_count": 144,
   "metadata": {},
   "outputs": [],
   "source": [
    "test_features=train_X[0:50,]\n",
    "test_labels=train_Y[0:50,]"
   ]
  },
  {
   "cell_type": "code",
   "execution_count": 146,
   "metadata": {},
   "outputs": [
    {
     "data": {
      "text/plain": [
       "(1000, 150, 150, 3)"
      ]
     },
     "execution_count": 146,
     "metadata": {},
     "output_type": "execute_result"
    }
   ],
   "source": [
    "train_features.shape"
   ]
  },
  {
   "cell_type": "code",
   "execution_count": 147,
   "metadata": {},
   "outputs": [
    {
     "name": "stdout",
     "output_type": "stream",
     "text": [
      "Epoch 1/10\n",
      "32/32 [==============================] - 211s 7s/step - loss: 1.7922 - accuracy: 0.1810\n",
      "Epoch 2/10\n",
      "32/32 [==============================] - 255s 8s/step - loss: 1.7897 - accuracy: 0.1810\n",
      "Epoch 3/10\n",
      "32/32 [==============================] - 215s 7s/step - loss: 1.7895 - accuracy: 0.1810\n",
      "Epoch 4/10\n",
      "32/32 [==============================] - 215s 7s/step - loss: 1.7896 - accuracy: 0.1640\n",
      "Epoch 5/10\n",
      "32/32 [==============================] - 242s 8s/step - loss: 1.7893 - accuracy: 0.1810\n",
      "Epoch 6/10\n",
      "32/32 [==============================] - 260s 8s/step - loss: 1.7893 - accuracy: 0.1640\n",
      "Epoch 7/10\n",
      "32/32 [==============================] - 262s 8s/step - loss: 1.7893 - accuracy: 0.1820\n",
      "Epoch 8/10\n",
      "32/32 [==============================] - 266s 8s/step - loss: 1.7894 - accuracy: 0.1810\n",
      "Epoch 9/10\n",
      "32/32 [==============================] - 266s 8s/step - loss: 1.7891 - accuracy: 0.1810\n",
      "Epoch 10/10\n",
      "32/32 [==============================] - 273s 9s/step - loss: 1.7894 - accuracy: 0.1810\n"
     ]
    },
    {
     "data": {
      "text/plain": [
       "<keras.callbacks.History at 0x2c3a8ef2a00>"
      ]
     },
     "execution_count": 147,
     "metadata": {},
     "output_type": "execute_result"
    }
   ],
   "source": [
    "model.fit(train_features, train_labels, epochs = 10, batch_size = 32)"
   ]
  },
  {
   "cell_type": "code",
   "execution_count": 148,
   "metadata": {},
   "outputs": [],
   "source": [
    "# y_pred = model.predict('forest.jpg')\n",
    "y_pred = model.predict(test_features)"
   ]
  },
  {
   "cell_type": "code",
   "execution_count": 152,
   "metadata": {},
   "outputs": [
    {
     "data": {
      "text/plain": [
       "array([0.16612653, 0.14600784, 0.18014352, 0.17788975, 0.16894588,\n",
       "       0.16088642], dtype=float32)"
      ]
     },
     "execution_count": 152,
     "metadata": {},
     "output_type": "execute_result"
    }
   ],
   "source": [
    "y_pred[0]"
   ]
  },
  {
   "cell_type": "code",
   "execution_count": 149,
   "metadata": {},
   "outputs": [],
   "source": [
    "# x=y_pred[1]\n",
    "\n",
    "y_pred_new = []\n",
    "for i in range (0, len(y_pred)):\n",
    "    z = max(y_pred[i])\n",
    "    n = np.where(y_pred[i] == z)\n",
    "    p =n[0]\n",
    "    y_pred_new.append(p)\n"
   ]
  },
  {
   "cell_type": "code",
   "execution_count": 150,
   "metadata": {
    "collapsed": true
   },
   "outputs": [
    {
     "data": {
      "text/plain": [
       "[array([2], dtype=int64),\n",
       " array([2], dtype=int64),\n",
       " array([2], dtype=int64),\n",
       " array([2], dtype=int64),\n",
       " array([2], dtype=int64),\n",
       " array([2], dtype=int64),\n",
       " array([2], dtype=int64),\n",
       " array([2], dtype=int64),\n",
       " array([2], dtype=int64),\n",
       " array([2], dtype=int64),\n",
       " array([2], dtype=int64),\n",
       " array([2], dtype=int64),\n",
       " array([2], dtype=int64),\n",
       " array([2], dtype=int64),\n",
       " array([2], dtype=int64),\n",
       " array([2], dtype=int64),\n",
       " array([2], dtype=int64),\n",
       " array([2], dtype=int64),\n",
       " array([2], dtype=int64),\n",
       " array([2], dtype=int64),\n",
       " array([2], dtype=int64),\n",
       " array([2], dtype=int64),\n",
       " array([2], dtype=int64),\n",
       " array([2], dtype=int64),\n",
       " array([2], dtype=int64),\n",
       " array([2], dtype=int64),\n",
       " array([2], dtype=int64),\n",
       " array([2], dtype=int64),\n",
       " array([2], dtype=int64),\n",
       " array([2], dtype=int64),\n",
       " array([2], dtype=int64),\n",
       " array([2], dtype=int64),\n",
       " array([2], dtype=int64),\n",
       " array([2], dtype=int64),\n",
       " array([2], dtype=int64),\n",
       " array([2], dtype=int64),\n",
       " array([2], dtype=int64),\n",
       " array([2], dtype=int64),\n",
       " array([2], dtype=int64),\n",
       " array([2], dtype=int64),\n",
       " array([2], dtype=int64),\n",
       " array([2], dtype=int64),\n",
       " array([2], dtype=int64),\n",
       " array([2], dtype=int64),\n",
       " array([2], dtype=int64),\n",
       " array([2], dtype=int64),\n",
       " array([2], dtype=int64),\n",
       " array([2], dtype=int64),\n",
       " array([2], dtype=int64),\n",
       " array([2], dtype=int64)]"
      ]
     },
     "execution_count": 150,
     "metadata": {},
     "output_type": "execute_result"
    }
   ],
   "source": [
    "y_pred_new"
   ]
  },
  {
   "cell_type": "code",
   "execution_count": 139,
   "metadata": {},
   "outputs": [
    {
     "data": {
      "text/plain": [
       "array([0, 0, 5, 4, 3, 3, 4, 5, 2, 0, 5, 2, 2, 4, 2, 5, 5, 4, 0, 0, 0, 4,\n",
       "       0, 5, 5, 0, 5, 4, 3, 0, 2, 0, 1, 0, 3, 0, 1, 4, 4, 1, 3, 4, 2, 4,\n",
       "       0, 2, 0, 3, 1, 5])"
      ]
     },
     "execution_count": 139,
     "metadata": {},
     "output_type": "execute_result"
    }
   ],
   "source": [
    "# test_labels[8] == y_pred_new[8]\n",
    "test_labels"
   ]
  },
  {
   "cell_type": "code",
   "execution_count": 134,
   "metadata": {},
   "outputs": [
    {
     "name": "stdout",
     "output_type": "stream",
     "text": [
      "2/2 - 2s - loss: 1.8167 - accuracy: 0.1400\n"
     ]
    }
   ],
   "source": [
    "test_loss, test_acc = model.evaluate(test_features,  test_labels, verbose=2)"
   ]
  },
  {
   "cell_type": "code",
   "execution_count": null,
   "metadata": {},
   "outputs": [],
   "source": []
  }
 ],
 "metadata": {
  "kernelspec": {
   "display_name": "Python 3",
   "language": "python",
   "name": "python3"
  },
  "language_info": {
   "codemirror_mode": {
    "name": "ipython",
    "version": 3
   },
   "file_extension": ".py",
   "mimetype": "text/x-python",
   "name": "python",
   "nbconvert_exporter": "python",
   "pygments_lexer": "ipython3",
   "version": "3.9.0"
  }
 },
 "nbformat": 4,
 "nbformat_minor": 5
}
